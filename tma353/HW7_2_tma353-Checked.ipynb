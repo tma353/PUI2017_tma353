{
 "cells": [
  {
   "cell_type": "code",
   "execution_count": 1,
   "metadata": {},
   "outputs": [
    {
     "ename": "SyntaxError",
     "evalue": "invalid syntax (<ipython-input-1-77fe7a447ea3>, line 23)",
     "output_type": "error",
     "traceback": [
      "\u001b[0;36m  File \u001b[0;32m\"<ipython-input-1-77fe7a447ea3>\"\u001b[0;36m, line \u001b[0;32m23\u001b[0m\n\u001b[0;31m    except urllib2.HTTPError, e:\u001b[0m\n\u001b[0m                            ^\u001b[0m\n\u001b[0;31mSyntaxError\u001b[0m\u001b[0;31m:\u001b[0m invalid syntax\n"
     ]
    }
   ],
   "source": [
    "SQL_SOURCE = 'https://tma353.carto.com/api/v2/sql?q='\n",
    "\n",
    "import urllib2\n",
    "import urllib\n",
    "import StringIO\n",
    "import ast\n",
    "import pandas as pd\n",
    "\n",
    "def queryCartoDB(query, format='CSV', source=SQL_SOURCE):\n",
    "    '''queries carto datasets from a given carto account\n",
    "    Arguments: \n",
    "    query - string: a valid sql query string\n",
    "    format - outlut format  OPTIONAL (default CSV)\n",
    "    source - a valid sql api endpoint OPTIONAL (default carto fb55 account)\n",
    "    Returns:\n",
    "    the return of the sql query AS A STRING\n",
    "    NOTES:\n",
    "    designed for the carto API, tested only with CSV return format'''\n",
    "    \n",
    "    data = urllib.urlencode({'format': format, 'q': query})\n",
    "    try:\n",
    "        response = urllib2.urlopen(source, data)\n",
    "    except urllib2.HTTPError, e:\n",
    "        raise ValueError('\\n'.join(ast.literal_eval(e.readline())['error']))\n",
    "    except Exception:\n",
    "        raise\n",
    "    return response.read()"
   ]
  },
  {
   "cell_type": "code",
   "execution_count": null,
   "metadata": {},
   "outputs": [],
   "source": [
    "test = '''\n",
    "SELECT *\n",
    "FROM citibike\n",
    "'''"
   ]
  },
  {
   "cell_type": "code",
   "execution_count": null,
   "metadata": {},
   "outputs": [],
   "source": [
    "pd.read_csv(StringIO.StringIO(queryCartoDB(test)), sep=',')"
   ]
  },
  {
   "cell_type": "code",
   "execution_count": null,
   "metadata": {
    "scrolled": true
   },
   "outputs": [],
   "source": [
    "max_duration = 3 * 60 * 60\n",
    "query = \"\"\"\n",
    "SELECT start_station_id, tripduration FROM citibike WHERE tripduration < {dur} ORDER BY start_station_id, tripduration\n",
    "\"\"\".format(dur=max_duration)\n",
    "pd.read_csv(StringIO.StringIO(queryCartoDB(query)), sep=',')"
   ]
  },
  {
   "cell_type": "code",
   "execution_count": null,
   "metadata": {
    "scrolled": true
   },
   "outputs": [],
   "source": [
    "max_duration = 3 * 60 * 60 # head and tail\n",
    "query = \"\"\"\n",
    "SELECT start_station_id, tripduration FROM citibike WHERE tripduration < {dur} \n",
    "ORDER BY (start_station_id, tripduration) DESC LIMIT 10\n",
    "\"\"\".format(dur=max_duration)\n",
    "pd.read_csv(StringIO.StringIO(queryCartoDB(query)), sep=',').head()"
   ]
  },
  {
   "cell_type": "code",
   "execution_count": null,
   "metadata": {
    "scrolled": true
   },
   "outputs": [],
   "source": [
    "max_duration = 3 * 60 * 60\n",
    "query = \"\"\"\n",
    "SELECT start_station_id, tripduration FROM citibike WHERE tripduration < {dur} \n",
    "ORDER BY (start_station_id, tripduration) ASC LIMIT 10\n",
    "\"\"\".format(dur=max_duration)\n",
    "pd.read_csv(StringIO.StringIO(queryCartoDB(query)), sep=',').head()"
   ]
  },
  {
   "cell_type": "code",
   "execution_count": null,
   "metadata": {
    "scrolled": true
   },
   "outputs": [],
   "source": [
    "max_duration = 3 * 60 * 60 # unique station IDs\n",
    "query = \"\"\"\n",
    "SELECT DISTINCT start_station_id FROM citibike\n",
    "\"\"\"\n",
    "pd.read_csv(StringIO.StringIO(queryCartoDB(query)), sep=',')\n"
   ]
  },
  {
   "cell_type": "code",
   "execution_count": null,
   "metadata": {},
   "outputs": [],
   "source": [
    "max_duration = 3 * 60 * 60 # number of trips wc -I for SQL\n",
    "query = \"\"\"\n",
    "SELECT COUNT(*) FROM citibike  \n",
    "\"\"\"\n",
    "pd.read_csv(StringIO.StringIO(queryCartoDB(query)), sep=',')"
   ]
  },
  {
   "cell_type": "code",
   "execution_count": null,
   "metadata": {},
   "outputs": [],
   "source": [
    "max_duration = 3 * 60 * 60 # min trip durartion \n",
    "query = \"\"\"\n",
    "SELECT MIN(tripduration) FROM citibike\n",
    "\"\"\"\n",
    "pd.read_csv(StringIO.StringIO(queryCartoDB(query)), sep=',')"
   ]
  },
  {
   "cell_type": "code",
   "execution_count": null,
   "metadata": {},
   "outputs": [],
   "source": [
    "max_duration = 3 * 60 * 60 # max trip duration\n",
    "query = \"\"\"\n",
    "SELECT MAX(tripduration) FROM citibike\n",
    "\"\"\"\n",
    "pd.read_csv(StringIO.StringIO(queryCartoDB(query)), sep=',')"
   ]
  },
  {
   "cell_type": "code",
   "execution_count": null,
   "metadata": {},
   "outputs": [],
   "source": [
    "max_duration = 3 * 60 * 60\n",
    "query = \"\"\"\n",
    "SELECT AVG(tripduration) FROM citibike\n",
    "\"\"\"\n",
    "pd.read_csv(StringIO.StringIO(queryCartoDB(query)), sep=',')"
   ]
  },
  {
   "cell_type": "code",
   "execution_count": null,
   "metadata": {},
   "outputs": [],
   "source": [
    "# trips Feb 2015 on weekends average trip duration, weekday?\n",
    "query = \"\"\"\n",
    "SELECT * FROM citibike WHERE DATE(starttime)='2015-02-02'\n",
    "\"\"\"\n",
    "pd.read_csv(StringIO.StringIO(queryCartoDB(query)), sep=',')"
   ]
  },
  {
   "cell_type": "code",
   "execution_count": null,
   "metadata": {},
   "outputs": [],
   "source": [
    "query = \"\"\"\n",
    "SELECT to_char(starttime, 'Day'),* FROM citibike \n",
    "WHERE trim(to_char(starttime, 'Day'))='Saturday' OR trim(to_char(starttime, 'Day'))='Sunday'\n",
    "\"\"\"\n",
    "pd.read_csv(StringIO.StringIO(queryCartoDB(query)), sep=',')"
   ]
  },
  {
   "cell_type": "code",
   "execution_count": null,
   "metadata": {},
   "outputs": [],
   "source": [
    "query = \"\"\"\n",
    "SELECT AVG(tripduration) FROM citibike \n",
    "WHERE trim(to_char(starttime, 'Day'))='Saturday' OR trim(to_char(starttime, 'Day'))='Sunday'\n",
    "\"\"\"\n",
    "pd.read_csv(StringIO.StringIO(queryCartoDB(query)), sep=',')"
   ]
  },
  {
   "cell_type": "code",
   "execution_count": null,
   "metadata": {},
   "outputs": [],
   "source": [
    "query = \"\"\"\n",
    "SELECT AVG(tripduration) FROM citibike \n",
    "WHERE trim(to_char(starttime, 'Day'))!='Saturday' AND trim(to_char(starttime, 'Day'))!='Sunday'\n",
    "\"\"\"\n",
    "pd.read_csv(StringIO.StringIO(queryCartoDB(query)), sep=',')"
   ]
  },
  {
   "cell_type": "code",
   "execution_count": null,
   "metadata": {},
   "outputs": [],
   "source": [
    "# start station w/ GROUPBY within 500 meters \n",
    "# of Times Sqaure (40.7577, -73.9857)"
   ]
  },
  {
   "cell_type": "code",
   "execution_count": null,
   "metadata": {
    "scrolled": true
   },
   "outputs": [],
   "source": [
    "query = \"\"\"\n",
    "SELECT DISTINCT ON (start_station_id)\n",
    "start_station_id,start_station_latitude,start_station_longitude FROM citibike \n",
    "\"\"\"\n",
    "pd.read_csv(StringIO.StringIO(queryCartoDB(query)), sep=',')"
   ]
  },
  {
   "cell_type": "code",
   "execution_count": null,
   "metadata": {
    "scrolled": true
   },
   "outputs": [],
   "source": [
    "query = \"\"\"\n",
    "SELECT COUNT(*) FROM citibike \n",
    "GROUP BY start_station_id\n",
    "\"\"\"\n",
    "pd.read_csv(StringIO.StringIO(queryCartoDB(query)), sep=',')"
   ]
  },
  {
   "cell_type": "code",
   "execution_count": null,
   "metadata": {},
   "outputs": [],
   "source": [
    "times_sq =  \"(40.7577,-73.9857)\"\n",
    "query = \"\"\"\n",
    "SELECT COUNT(*) FROM citibike\n",
    "WHERE ST_DWithin(CDB_LatLng(start_station_latitude, start_station_longitude)::geography,\n",
    "                 CDB_LatLng{times_sq}::geography,\n",
    "                 500)\n",
    "GROUP BY start_station_id\n",
    "\"\"\".format(times_sq=times_sq)\n",
    "pd.read_csv(StringIO.StringIO(queryCartoDB(query)), sep=',')"
   ]
  },
  {
   "cell_type": "code",
   "execution_count": null,
   "metadata": {},
   "outputs": [],
   "source": [
    "# longest average trip duration during weekends within 500 meters \n",
    "# of TimeSquare"
   ]
  },
  {
   "cell_type": "code",
   "execution_count": null,
   "metadata": {},
   "outputs": [],
   "source": [
    "times_sq =  \"(40.7577,-73.9857)\"\n",
    "query = \"\"\"\n",
    "SELECT * FROM (\n",
    "    SELECT start_station_id, AVG(tripduration) as aver_trip FROM citibike \n",
    "    WHERE (trim(to_char(starttime, 'Day'))='Saturday' \n",
    "          OR trim(to_char(starttime, 'Day'))='Sunday')\n",
    "          AND ST_DWithin(CDB_LatLng(start_station_latitude, start_station_longitude)::geography,\n",
    "                 CDB_LatLng{times_sq}::geography,\n",
    "                 500)\n",
    "    GROUP BY start_station_id ) as derivedtable ORDER BY derivedtable.aver_trip DESC LIMIT 1\n",
    "\"\"\".format(times_sq=times_sq)\n",
    "pd.read_csv(StringIO.StringIO(queryCartoDB(query)), sep=',')"
   ]
  },
  {
   "cell_type": "markdown",
   "metadata": {},
   "source": [
    "## ASH Score 100. Extra CRedit 0"
   ]
  },
  {
   "cell_type": "code",
   "execution_count": null,
   "metadata": {},
   "outputs": [],
   "source": []
  }
 ],
 "metadata": {
  "kernelspec": {
   "display_name": "PUI2016_Python3",
   "language": "python",
   "name": "pui2016_python3"
  },
  "language_info": {
   "codemirror_mode": {
    "name": "ipython",
    "version": 3
   },
   "file_extension": ".py",
   "mimetype": "text/x-python",
   "name": "python",
   "nbconvert_exporter": "python",
   "pygments_lexer": "ipython3",
   "version": "3.5.4"
  }
 },
 "nbformat": 4,
 "nbformat_minor": 2
}
